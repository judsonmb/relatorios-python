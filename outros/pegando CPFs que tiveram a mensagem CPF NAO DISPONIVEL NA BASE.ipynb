{
 "cells": [
  {
   "cell_type": "code",
   "execution_count": 13,
   "id": "fd2f20cc",
   "metadata": {},
   "outputs": [],
   "source": [
    "import boto3\n",
    "from boto3.dynamodb.conditions import Key, Attr"
   ]
  },
  {
   "cell_type": "code",
   "execution_count": 14,
   "id": "1a5acfcb",
   "metadata": {},
   "outputs": [],
   "source": [
    "dynamodb = boto3.resource('dynamodb', region_name='us-east-1', aws_access_key_id='#######', aws_secret_access_key='######')\n",
    "table = dynamodb.Table('applicant-bureau-api-data-prod')\n",
    "f = Attr('bureau_client_solicitation_ids').contains('serasa')\n",
    "response = table.scan(FilterExpression=f)"
   ]
  },
  {
   "cell_type": "code",
   "execution_count": 15,
   "id": "ef28e31e",
   "metadata": {},
   "outputs": [],
   "source": []
  }
 ],
 "metadata": {
  "kernelspec": {
   "display_name": "Python 3",
   "language": "python",
   "name": "python3"
  },
  "language_info": {
   "codemirror_mode": {
    "name": "ipython",
    "version": 3
   },
   "file_extension": ".py",
   "mimetype": "text/x-python",
   "name": "python",
   "nbconvert_exporter": "python",
   "pygments_lexer": "ipython3",
   "version": "3.8.10"
  }
 },
 "nbformat": 4,
 "nbformat_minor": 5
}
