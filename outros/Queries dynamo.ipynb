{
 "cells": [
  {
   "cell_type": "code",
   "execution_count": 1,
   "id": "952481a8",
   "metadata": {},
   "outputs": [],
   "source": [
    "import boto3\n",
    "from boto3.dynamodb.conditions import Attr, Key\n",
    "import pprint"
   ]
  },
  {
   "cell_type": "code",
   "execution_count": 2,
   "id": "5ad4d24e",
   "metadata": {},
   "outputs": [],
   "source": [
    "#conectando ao dynamo\n",
    "dynamodb = boto3.resource('dynamodb',\n",
    "                          region_name='us-east-1',\n",
    "                          aws_access_key_id='#######',\n",
    "                          aws_secret_access_key='######')\n",
    "\n",
    "#tabela para pegar os dados\n",
    "tableName = 'applicant-bureau-api-data-prod'\n",
    "table = dynamodb.Table(tableName)\n",
    "response = table.get_item(Key={'document': '13181756741', 'bureau_client_solicitation_ids': 'serasa#14894#54411'})"
   ]
  },
  {
   "cell_type": "code",
   "execution_count": 3,
   "id": "31759929",
   "metadata": {},
   "outputs": [
    {
     "data": {
      "text/plain": [
       "{'Item': {'bureau_client_solicitation_ids': 'serasa#14894#54411',\n",
       "  'document': '13181756741',\n",
       "  'dated': '2021-11-03 21:50:03',\n",
       "  'data': {'dados_cadastrais': {'uf_emissor': None,\n",
       "    'numero_dependentes': None,\n",
       "    'nome_pai': None,\n",
       "    'orgao_emissor': None,\n",
       "    'estado_civil': None,\n",
       "    'uf_nascimento': None,\n",
       "    'numero_documento': None,\n",
       "    'ramal_comercial': None,\n",
       "    'pais_nascimento_pai': None,\n",
       "    'tipo_documento': None,\n",
       "    'cidade_nascimento': None,\n",
       "    'data_ultima_alteracao_cadastro': None,\n",
       "    'celular': None,\n",
       "    'data_nascimento_pela_empresa': None,\n",
       "    'nome_mae': 'ANA ZELIA DIAS COUTO',\n",
       "    'escolaridade': None,\n",
       "    'tel_comercial': None,\n",
       "    'sexo': None,\n",
       "    'cpf_conjuge': None,\n",
       "    'data_emissao': None,\n",
       "    'tel_residencial': None,\n",
       "    'email': None},\n",
       "   'conjuge': {},\n",
       "   'score': {'probabilidade_inadimplencia': Decimal('980'),\n",
       "    'score': Decimal('741'),\n",
       "    'range': 'B',\n",
       "    'scoring': '63-NOVO RISCO 6 MESES',\n",
       "    'codigo_mensagem': None,\n",
       "    'score_mensagem': 'DE CADA 100 PESSOAS CLASSIFICADAS NESTA CLASSE DE SCORE, E PROVAVEL QUE 10 APRESENTEM DEBITOS NO MERCADO NOS PROXIMOS 6 MESES.'},\n",
       "   'documentos': {'codigo_situacao_cpf': Decimal('0'),\n",
       "    'situacao_cpf': 'REGULAR',\n",
       "    'rg': None,\n",
       "    'data_nascimento': '1989-03-25',\n",
       "    'erro': None,\n",
       "    'situacao_cpf_antigo': None,\n",
       "    'cpf': '13181756741',\n",
       "    'data_ultima_alteracao_cpf': None,\n",
       "    'titular': None,\n",
       "    'grafia': 'IVAN DIAS COUTO'},\n",
       "   'endereco': {'uf': None,\n",
       "    'cidade': None,\n",
       "    'data': None,\n",
       "    'logradouro': None,\n",
       "    'bairro': None,\n",
       "    'cep': None},\n",
       "   'controle': {'hora_consulta': '18:50:06',\n",
       "    'data_consulta': '2021-11-03',\n",
       "    'total_registros': Decimal('1')}},\n",
       "  'type': 'pf'},\n",
       " 'ResponseMetadata': {'RequestId': 'J5L4BU552HUFA6THPHCDSCJML3VV4KQNSO5AEMVJF66Q9ASUAAJG',\n",
       "  'HTTPStatusCode': 200,\n",
       "  'HTTPHeaders': {'server': 'Server',\n",
       "   'date': 'Thu, 04 Nov 2021 10:50:01 GMT',\n",
       "   'content-type': 'application/x-amz-json-1.0',\n",
       "   'content-length': '1814',\n",
       "   'connection': 'keep-alive',\n",
       "   'x-amzn-requestid': 'J5L4BU552HUFA6THPHCDSCJML3VV4KQNSO5AEMVJF66Q9ASUAAJG',\n",
       "   'x-amz-crc32': '3685428012'},\n",
       "  'RetryAttempts': 0}}"
      ]
     },
     "execution_count": 3,
     "metadata": {},
     "output_type": "execute_result"
    }
   ],
   "source": [
    "response"
   ]
  }
 ],
 "metadata": {
  "kernelspec": {
   "display_name": "Python 3",
   "language": "python",
   "name": "python3"
  },
  "language_info": {
   "codemirror_mode": {
    "name": "ipython",
    "version": 3
   },
   "file_extension": ".py",
   "mimetype": "text/x-python",
   "name": "python",
   "nbconvert_exporter": "python",
   "pygments_lexer": "ipython3",
   "version": "3.8.10"
  }
 },
 "nbformat": 4,
 "nbformat_minor": 5
}
