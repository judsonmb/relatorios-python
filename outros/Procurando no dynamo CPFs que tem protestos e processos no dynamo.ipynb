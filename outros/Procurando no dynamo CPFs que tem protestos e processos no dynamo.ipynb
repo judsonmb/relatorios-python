{
 "cells": [
  {
   "cell_type": "code",
   "execution_count": 4,
   "id": "7e606ef3",
   "metadata": {},
   "outputs": [],
   "source": [
    "#importando pacotes para conexão com o dynamo\n",
    "import boto3\n",
    "from boto3.dynamodb.conditions import Attr\n",
    "from datetime import datetime"
   ]
  },
  {
   "cell_type": "code",
   "execution_count": 5,
   "id": "e6093461",
   "metadata": {},
   "outputs": [],
   "source": [
    "#conectando ao dynamo\n",
    "dynamodb = boto3.resource('dynamodb', \n",
    "                          region_name='us-east-1', \n",
    "                          aws_access_key_id='#######', \n",
    "                          aws_secret_access_key='######')"
   ]
  },
  {
   "cell_type": "code",
   "execution_count": 6,
   "id": "9a521c6a",
   "metadata": {},
   "outputs": [],
   "source": [
    "#fazendo a query para pegar os cpfs consultados no boa vista\n",
    "table = dynamodb.Table('applicant-bureau-api-data-prod')\n",
    "f = Attr('bureau_client_solicitation_ids').contains('bigdata')\n",
    "response = table.scan(FilterExpression=f)"
   ]
  },
  {
   "cell_type": "code",
   "execution_count": 7,
   "id": "94b6ce69",
   "metadata": {},
   "outputs": [
    {
     "name": "stdout",
     "output_type": "stream",
     "text": [
      "O CPF 72551984904 contém protestos\n",
      "2021-11-09\n",
      "---\n",
      "---\n",
      "---\n",
      "---\n",
      "---\n",
      "---\n",
      "---\n",
      "---\n",
      "O CPF 29881232848 contém protestos\n",
      "2021-11-09\n",
      "---\n",
      "---\n",
      "---\n",
      "---\n",
      "---\n",
      "O CPF 04800573971 contém protestos\n",
      "2021-11-09\n",
      "---\n",
      "---\n",
      "---\n",
      "O CPF 18373994840 contém protestos\n",
      "2021-11-09\n",
      "---\n",
      "---\n",
      "---\n",
      "---\n",
      "---\n",
      "---\n",
      "---\n",
      "O CPF 09369037918 contém protestos\n",
      "2021-11-09\n",
      "---\n",
      "---\n",
      "---\n",
      "---\n",
      "---\n",
      "---\n",
      "---\n",
      "---\n",
      "---\n",
      "---\n",
      "---\n",
      "---\n",
      "---\n",
      "---\n",
      "---\n"
     ]
    },
    {
     "ename": "KeyError",
     "evalue": "'BaseStatus'",
     "output_type": "error",
     "traceback": [
      "\u001b[0;31m---------------------------------------------------------------------------\u001b[0m",
      "\u001b[0;31mKeyError\u001b[0m                                  Traceback (most recent call last)",
      "\u001b[0;32m<ipython-input-7-fd6dc9b202bd>\u001b[0m in \u001b[0;36m<module>\u001b[0;34m\u001b[0m\n\u001b[1;32m      6\u001b[0m         \u001b[0;32mif\u001b[0m\u001b[0;34m(\u001b[0m\u001b[0mdataAnaliseCPF\u001b[0m \u001b[0;34m>=\u001b[0m \u001b[0mdataLimite\u001b[0m\u001b[0;34m)\u001b[0m\u001b[0;34m:\u001b[0m\u001b[0;34m\u001b[0m\u001b[0;34m\u001b[0m\u001b[0m\n\u001b[1;32m      7\u001b[0m             \u001b[0;31m#procurando se existe protestos\u001b[0m\u001b[0;34m\u001b[0m\u001b[0;34m\u001b[0m\u001b[0;34m\u001b[0m\u001b[0m\n\u001b[0;32m----> 8\u001b[0;31m             \u001b[0;32mif\u001b[0m \u001b[0mi\u001b[0m\u001b[0;34m[\u001b[0m\u001b[0;34m'data'\u001b[0m\u001b[0;34m]\u001b[0m\u001b[0;34m[\u001b[0m\u001b[0;34m'Result'\u001b[0m\u001b[0;34m]\u001b[0m\u001b[0;34m[\u001b[0m\u001b[0;36m0\u001b[0m\u001b[0;34m]\u001b[0m\u001b[0;34m[\u001b[0m\u001b[0;34m'OnlineCertificates'\u001b[0m\u001b[0;34m]\u001b[0m\u001b[0;34m[\u001b[0m\u001b[0;36m0\u001b[0m\u001b[0;34m]\u001b[0m\u001b[0;34m[\u001b[0m\u001b[0;34m'BaseStatus'\u001b[0m\u001b[0;34m]\u001b[0m \u001b[0;34m!=\u001b[0m \u001b[0;34m'NAO CONSTAM PROTESTOS NOS CARTORIOS PARTICIPANTES'\u001b[0m\u001b[0;34m:\u001b[0m\u001b[0;34m\u001b[0m\u001b[0;34m\u001b[0m\u001b[0m\n\u001b[0m\u001b[1;32m      9\u001b[0m                 \u001b[0mprint\u001b[0m\u001b[0;34m(\u001b[0m\u001b[0;34m'O CPF '\u001b[0m \u001b[0;34m+\u001b[0m \u001b[0mi\u001b[0m\u001b[0;34m[\u001b[0m\u001b[0;34m'document'\u001b[0m\u001b[0;34m]\u001b[0m \u001b[0;34m+\u001b[0m \u001b[0;34m' contém protestos'\u001b[0m\u001b[0;34m)\u001b[0m\u001b[0;34m\u001b[0m\u001b[0;34m\u001b[0m\u001b[0m\n\u001b[1;32m     10\u001b[0m                 \u001b[0mprint\u001b[0m\u001b[0;34m(\u001b[0m\u001b[0mdataAnaliseCPF\u001b[0m\u001b[0;34m)\u001b[0m\u001b[0;34m\u001b[0m\u001b[0;34m\u001b[0m\u001b[0m\n",
      "\u001b[0;31mKeyError\u001b[0m: 'BaseStatus'"
     ]
    }
   ],
   "source": [
    "#percorrendo os resultados\n",
    "while 'LastEvaluatedKey' in response:\n",
    "    for i in response['Items']:\n",
    "        dataAnaliseCPF = datetime.strptime(i['dated'], '%Y-%m-%d %H:%M:%S').date()\n",
    "        dataLimite = datetime.strptime('2021-11-09 00:00:00', '%Y-%m-%d %H:%M:%S').date()\n",
    "        if(dataAnaliseCPF >= dataLimite):\n",
    "            #procurando se existe protestos\n",
    "            if 'BaseStatus' in i['data']['Result'][0]['OnlineCertificates'][0] and i['data']['Result'][0]['OnlineCertificates'][0]['BaseStatus'] != 'NAO CONSTAM PROTESTOS NOS CARTORIOS PARTICIPANTES':\n",
    "                print('O CPF ' + i['document'] + ' contém protestos')\n",
    "                print(dataAnaliseCPF)\n",
    "            #procurando se existe processos\n",
    "            if len(i['data']['Result'][0]['Processes']['Lawsuits']) > 0:\n",
    "                print('O CPF ' + i['document'] + ' contém processos')\n",
    "                print(dataAnaliseCPF)\n",
    "            print('---')\n",
    "    if 'LastEvaluatedKey' in response:\n",
    "        response = table.scan(FilterExpression=f, ExclusiveStartKey=response['LastEvaluatedKey'])"
   ]
  }
 ],
 "metadata": {
  "kernelspec": {
   "display_name": "Python 3",
   "language": "python",
   "name": "python3"
  },
  "language_info": {
   "codemirror_mode": {
    "name": "ipython",
    "version": 3
   },
   "file_extension": ".py",
   "mimetype": "text/x-python",
   "name": "python",
   "nbconvert_exporter": "python",
   "pygments_lexer": "ipython3",
   "version": "3.8.10"
  }
 },
 "nbformat": 4,
 "nbformat_minor": 5
}
