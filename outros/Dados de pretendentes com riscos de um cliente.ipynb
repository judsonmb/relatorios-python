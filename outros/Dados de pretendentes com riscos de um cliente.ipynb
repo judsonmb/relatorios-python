{
 "cells": [
  {
   "cell_type": "code",
   "execution_count": 1,
   "metadata": {},
   "outputs": [],
   "source": [
    "import mysql.connector\n",
    "import boto3\n",
    "from boto3.dynamodb.conditions import Key, Attr\n",
    "from datetime import datetime\n",
    "from decimal import Decimal\n",
    "import csv"
   ]
  },
  {
   "cell_type": "code",
   "execution_count": 2,
   "metadata": {},
   "outputs": [],
   "source": [
    "dynamodb = boto3.resource('dynamodb',\n",
    "                          region_name='us-east-1',\n",
    "                          aws_access_key_id='#######',\n",
    "                          aws_secret_access_key='######')\n",
    "table = dynamodb.Table('evaluation-report-data-prod')\n",
    "f = Attr('applicant_id').ne(0)\n",
    "response = table.scan(FilterExpression=f)"
   ]
  },
  {
   "cell_type": "code",
   "execution_count": 3,
   "metadata": {},
   "outputs": [],
   "source": [
    "cliente = 17922\n",
    "inicio = datetime.strptime('2020-09-01 00:00:00', '%Y-%m-%d %H:%M:%S')\n",
    "fim = datetime.strptime('2021-03-31 23:59:59', '%Y-%m-%d %H:%M:%S')\n",
    "csv_columns = ['CPF', 'Nome', 'Risco', 'Data']"
   ]
  },
  {
   "cell_type": "code",
   "execution_count": 4,
   "metadata": {},
   "outputs": [
    {
     "name": "stdout",
     "output_type": "stream",
     "text": [
      "Script finalizado!\n"
     ]
    }
   ],
   "source": [
    "with open('relatorio-risco-muito-alto.csv', 'w', newline='', encoding='utf-8') as csvfile:\n",
    "    spamwriter = csv.writer(csvfile, delimiter=',')\n",
    "    spamwriter.writerow(csv_columns)\n",
    "    while 'LastEvaluatedKey' in response:\n",
    "        for i in response['Items']:\n",
    "            if('laudo' in i['data'] and i['data']['extra']['client_id'] == cliente):\n",
    "                data_analise = datetime.strptime(i['data']['laudo']['data_conclusao'], '%Y-%m-%d %H:%M:%S')\n",
    "                if((data_analise >= inicio and data_analise <= fim)):\n",
    "                    listaRow = list()\n",
    "                    listaRow.append(i['data']['pretendente']['cpf'])\n",
    "                    listaRow.append(i['data']['pretendente']['nome'])\n",
    "                    listaRow.append(i['data']['laudo']['parecer_sistemico'][0]['parecer'])\n",
    "                    listaRow.append(i['data']['laudo']['data_conclusao'])\n",
    "                    spamwriter.writerow(listaRow)\n",
    "        if 'LastEvaluatedKey' in response:\n",
    "            response = table.scan(ExclusiveStartKey=response['LastEvaluatedKey'])\n",
    "print('Script finalizado!')"
   ]
  }
 ],
 "metadata": {
  "kernelspec": {
   "display_name": "Python 3",
   "language": "python",
   "name": "python3"
  },
  "language_info": {
   "codemirror_mode": {
    "name": "ipython",
    "version": 3
   },
   "file_extension": ".py",
   "mimetype": "text/x-python",
   "name": "python",
   "nbconvert_exporter": "python",
   "pygments_lexer": "ipython3",
   "version": "3.8.10"
  }
 },
 "nbformat": 4,
 "nbformat_minor": 4
}
