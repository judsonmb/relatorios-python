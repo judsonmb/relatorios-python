{
 "cells": [
  {
   "cell_type": "code",
   "execution_count": 42,
   "id": "7f2b7b53",
   "metadata": {},
   "outputs": [],
   "source": [
    "import boto3\n",
    "from boto3.dynamodb.conditions import Attr\n",
    "from datetime import datetime, date"
   ]
  },
  {
   "cell_type": "code",
   "execution_count": 43,
   "id": "00a10a2a",
   "metadata": {},
   "outputs": [],
   "source": [
    "dynamodb = boto3.resource('dynamodb', region_name='us-east-1', aws_access_key_id='#######', aws_secret_access_key='######')\n",
    "table = dynamodb.Table('applicant-bureau-api-data-prod')\n",
    "f = Attr('bureau_client_solicitation_ids').contains('bigdata')\n",
    "response = table.scan(FilterExpression=f)"
   ]
  },
  {
   "cell_type": "code",
   "execution_count": 44,
   "id": "d68144d2",
   "metadata": {},
   "outputs": [],
   "source": [
    "inicio = datetime.strptime('2021-10-08 00:00', '%Y-%m-%d %H:%M').date()\n",
    "fim = date.today()"
   ]
  },
  {
   "cell_type": "code",
   "execution_count": 45,
   "id": "5a11c8b6",
   "metadata": {},
   "outputs": [
    {
     "name": "stdout",
     "output_type": "stream",
     "text": [
      "analisado em:  2021-10-18 16:43:22\n",
      "analisado em:  2021-10-15 17:05:47\n",
      "analisado em:  2021-10-13 16:51:13\n",
      "analisado em:  2021-10-19 17:27:44\n",
      "analisado em:  2021-10-14 19:10:10\n",
      "analisado em:  2021-10-19 20:02:15\n",
      "analisado em:  2021-10-20 13:19:40\n",
      "analisado em:  2021-10-16 15:21:45\n",
      "analisado em:  2021-10-19 18:39:09\n"
     ]
    }
   ],
   "source": [
    "while 'LastEvaluatedKey' in response:\n",
    "    for i in response['Items']:\n",
    "        dataAnaliseCPF = datetime.strptime(i['dated'], '%Y-%m-%d %H:%M:%S').date()\n",
    "        if dataAnaliseCPF >= inicio and dataAnaliseCPF <= fim:\n",
    "            print('analisado em: ', i['dated'])\n",
    "            if 'Lawsuits' in i['data']['Result'][0]['Processes']:\n",
    "                if len(i['data']['Result'][0]['Processes']['Lawsuits']) > 0:\n",
    "                    print('-----> ' + i['document'])\n",
    "        if 'LastEvaluatedKey' in response:\n",
    "                response = table.scan(ExclusiveStartKey=response['LastEvaluatedKey'], FilterExpression=f)"
   ]
  }
 ],
 "metadata": {
  "kernelspec": {
   "display_name": "Python 3",
   "language": "python",
   "name": "python3"
  },
  "language_info": {
   "codemirror_mode": {
    "name": "ipython",
    "version": 3
   },
   "file_extension": ".py",
   "mimetype": "text/x-python",
   "name": "python",
   "nbconvert_exporter": "python",
   "pygments_lexer": "ipython3",
   "version": "3.8.10"
  }
 },
 "nbformat": 4,
 "nbformat_minor": 5
}
